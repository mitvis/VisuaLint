{
 "cells": [
  {
   "cell_type": "code",
   "execution_count": 2,
   "metadata": {},
   "outputs": [
    {
     "name": "stdout",
     "output_type": "stream",
     "text": [
      "95% confidence interval: 0.50-0.70\n"
     ]
    }
   ],
   "source": [
    "import scipy.stats\n",
    "import math\n",
    "import random\n",
    "\n",
    "\n",
    "def clopper_pearson(x, n, alpha=0.05):\n",
    "    \"\"\"Estimate the confidence interval for a sampled Bernoulli random\n",
    "    variable.\n",
    "    `x` is the number of successes and `n` is the number trials (x <=\n",
    "    n). `alpha` is the confidence level (i.e., the true probability is\n",
    "    inside the confidence interval with probability 1-alpha). The\n",
    "    function returns a `(low, high)` pair of numbers indicating the\n",
    "    interval on the probability.\n",
    "    \"\"\"\n",
    "    b = scipy.stats.beta.ppf\n",
    "    lo = b(alpha / 2, x, n - x + 1)\n",
    "    hi = b(1 - alpha / 2, x + 1, n - x)\n",
    "    return 0.0 if math.isnan(lo) else lo, 1.0 if math.isnan(hi) else hi\n",
    "\n",
    "\n",
    "# As a test, estimate the probability of a fair coin (p=0.5) using 100 flips.\n",
    "\n",
    "total = 100\n",
    "successes = sum(random.randint(0, 1) for i in range(total))\n",
    "lo, hi = clopper_pearson(successes, total)\n",
    "print('95% confidence interval: {:.2f}-{:.2f}'.format(lo, hi))  "
   ]
  },
  {
   "cell_type": "code",
   "execution_count": 3,
   "metadata": {},
   "outputs": [
    {
     "name": "stdout",
     "output_type": "stream",
     "text": [
      "95% confidence interval: 0.38-0.53\n"
     ]
    }
   ],
   "source": [
    "lo,hi = clopper_pearson(84,186)\n",
    "print('95% confidence interval: {:.2f}-{:.2f}'.format(lo, hi)) "
   ]
  },
  {
   "cell_type": "code",
   "execution_count": 4,
   "metadata": {},
   "outputs": [
    {
     "name": "stdout",
     "output_type": "stream",
     "text": [
      "[(0.23055555555555557, 0.32222222222222224)]\n"
     ]
    }
   ],
   "source": [
    "import numpy as np\n",
    "\n",
    "def bootstrap(data, n=1000, func=np.mean):\n",
    "    \"\"\"\n",
    "    Generate `n` bootstrap samples, evaluating `func`\n",
    "    at each resampling. `bootstrap` returns a function,\n",
    "    which can be called to obtain confidence intervals\n",
    "    of interest.\n",
    "    \"\"\"\n",
    "    simulations = list()\n",
    "    sample_size = len(data)\n",
    "    xbar_init = np.mean(data)\n",
    "    for c in range(n):\n",
    "        itersample = np.random.choice(data, size=sample_size, replace=True)\n",
    "        simulations.append(func(itersample))\n",
    "    simulations.sort()\n",
    "    def ci(p):\n",
    "        \"\"\"\n",
    "        Return 2-sided symmetric confidence interval specified\n",
    "        by p.\n",
    "        \"\"\"\n",
    "        u_pval = (1+p)/2.\n",
    "        l_pval = (1-u_pval)\n",
    "        l_indx = int(np.floor(n*l_pval))\n",
    "        u_indx = int(np.floor(n*u_pval))\n",
    "        return(simulations[l_indx],simulations[u_indx])\n",
    "    return(ci)\n",
    "\n",
    "da = np.zeros((360,), dtype=int)\n",
    "k = 98\n",
    "j = 0\n",
    "for i in da:\n",
    "    if j <= k:\n",
    "        da[j] = 1\n",
    "        j=j+1\n",
    "# 45 correct, 342 trials)\n",
    "#(115 correct, 342 trials)\n",
    "boot = bootstrap(da, n=5000)\n",
    "cintervals = [boot(.95)]\n",
    "print(cintervals)"
   ]
  },
  {
   "cell_type": "code",
   "execution_count": null,
   "metadata": {
    "scrolled": true
   },
   "outputs": [],
   "source": []
  },
  {
   "cell_type": "code",
   "execution_count": null,
   "metadata": {},
   "outputs": [],
   "source": [
    "\n"
   ]
  },
  {
   "cell_type": "code",
   "execution_count": null,
   "metadata": {},
   "outputs": [],
   "source": []
  }
 ],
 "metadata": {
  "kernelspec": {
   "display_name": "Python 3",
   "language": "python",
   "name": "python3"
  },
  "language_info": {
   "codemirror_mode": {
    "name": "ipython",
    "version": 3
   },
   "file_extension": ".py",
   "mimetype": "text/x-python",
   "name": "python",
   "nbconvert_exporter": "python",
   "pygments_lexer": "ipython3",
   "version": "3.7.3"
  }
 },
 "nbformat": 4,
 "nbformat_minor": 2
}
